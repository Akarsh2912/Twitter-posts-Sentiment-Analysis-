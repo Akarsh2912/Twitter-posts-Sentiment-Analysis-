{
 "cells": [
  {
   "cell_type": "code",
   "execution_count": 12,
   "id": "14cf8b54",
   "metadata": {},
   "outputs": [],
   "source": [
    "import tweepy\n",
    "from textblob import TextBlob\n",
    "import pandas as pd\n",
    "import numpy as np\n",
    "import re\n",
    "import matplotlib.pyplot as plt"
   ]
  },
  {
   "cell_type": "code",
   "execution_count": 3,
   "id": "19851da5",
   "metadata": {},
   "outputs": [],
   "source": [
    "#Read API keys and tokens\n",
    "\n",
    "log = pd.read_csv('Tkeys')\n",
    "consumerKey = log['API keys'][0]\n",
    "consumerSecret = log['API keys'][1]\n",
    "accessToken = log['Access keys'][0]\n",
    "accessSecret = log['Access keys'][1]"
   ]
  },
  {
   "cell_type": "code",
   "execution_count": 4,
   "id": "bef87aa5",
   "metadata": {},
   "outputs": [],
   "source": [
    "# Create Authentication \n",
    "authenticate = tweepy.OAuthHandler(consumerKey,consumerSecret)\n",
    "\n",
    "# Set access token \n",
    "authenticate.set_access_token(accessToken,accessSecret)\n",
    "\n",
    "# Create API Object\n",
    "api = tweepy.API(authenticate,wait_on_rate_limit=True)"
   ]
  },
  {
   "cell_type": "markdown",
   "id": "a76103a1",
   "metadata": {},
   "source": [
    "# Extract Tweets from User"
   ]
  },
  {
   "cell_type": "code",
   "execution_count": 17,
   "id": "0cefd004",
   "metadata": {},
   "outputs": [
    {
     "name": "stdout",
     "output_type": "stream",
     "text": [
      "Medicare and Medicaid turn 56 today.\n",
      " \n",
      "Thanks to these lifesaving programs, 140 million Americans have health insurance. And my Build Back Better Agenda will add to that by expanding Medicare benefits, reducing prescription drug costs, and closing the Medicaid coverage gap. https://t.co/CKeOC6gxk7\n",
      "\n",
      "Tune in as the Vice President and I meet with Governors to discuss the worsening wildfire season and our work to strengthen wildfire prevention, preparedness, and response efforts. https://t.co/Gci4xNUCJu\n",
      "\n",
      "Yesterday, the Vice President and I met with legislators to discuss the path forward on DACA. We need to pass long overdue immigration reform and give Dreamers, TPS recipients, farmworkers, and essential workers a path to citizenship. https://t.co/F81VfH1bNy\n",
      "\n",
      "The Delta variant is surging across the country, but the good news is we’ve spent six months preparing for this possibility. The vaccines are highly effective — and we have enough for everyone.\n",
      " \n",
      "Get protected today: https://t.co/4MYpWqXVVo https://t.co/pkySebeZJy\n",
      "\n",
      "RT @WhiteHouse: Over 160M Americans are fully vaccinated, schools are reopening for in-person instruction this fall, and our economy is roa…\n",
      "\n"
     ]
    }
   ],
   "source": [
    "posts = api.user_timeline(screen_name=\"POTUS\",count=100,lang='en',tweet_mode='extended')\n",
    "\n",
    "for tweet in posts[0:5]:\n",
    "    print(tweet.full_text + \"\\n\")\n",
    "    "
   ]
  },
  {
   "cell_type": "code",
   "execution_count": 18,
   "id": "bb99b260",
   "metadata": {},
   "outputs": [],
   "source": [
    "# Create DataFrame for tweet\n",
    "df = pd.DataFrame([tweet.full_text for tweet in posts], columns=['Tweets'])"
   ]
  },
  {
   "cell_type": "code",
   "execution_count": 19,
   "id": "843207ea",
   "metadata": {},
   "outputs": [],
   "source": [
    "# Clean Data\n",
    "def cleantext(text):\n",
    "    text = re.sub(r'@[A-Za-z0-9]+', '',text)\n",
    "    text = re.sub(r'RT[\\s]+','',text)\n",
    "    text = re.sub(r'#','',text)\n",
    "    text = re.sub(r'https?:\\/\\/\\S+','',text)\n",
    "    \n",
    "    return text\n",
    "\n",
    "df['Tweets'] = df['Tweets'].apply(cleantext)"
   ]
  },
  {
   "cell_type": "code",
   "execution_count": 20,
   "id": "9bfe963e",
   "metadata": {},
   "outputs": [
    {
     "data": {
      "text/html": [
       "<div>\n",
       "<style scoped>\n",
       "    .dataframe tbody tr th:only-of-type {\n",
       "        vertical-align: middle;\n",
       "    }\n",
       "\n",
       "    .dataframe tbody tr th {\n",
       "        vertical-align: top;\n",
       "    }\n",
       "\n",
       "    .dataframe thead th {\n",
       "        text-align: right;\n",
       "    }\n",
       "</style>\n",
       "<table border=\"1\" class=\"dataframe\">\n",
       "  <thead>\n",
       "    <tr style=\"text-align: right;\">\n",
       "      <th></th>\n",
       "      <th>Tweets</th>\n",
       "      <th>Subjectivity</th>\n",
       "      <th>Polarity</th>\n",
       "    </tr>\n",
       "  </thead>\n",
       "  <tbody>\n",
       "    <tr>\n",
       "      <th>0</th>\n",
       "      <td>Medicare and Medicaid turn 56 today.\\n \\nThank...</td>\n",
       "      <td>0.233333</td>\n",
       "      <td>0.233333</td>\n",
       "    </tr>\n",
       "    <tr>\n",
       "      <th>1</th>\n",
       "      <td>Tune in as the Vice President and I meet with ...</td>\n",
       "      <td>0.000000</td>\n",
       "      <td>0.000000</td>\n",
       "    </tr>\n",
       "    <tr>\n",
       "      <th>2</th>\n",
       "      <td>Yesterday, the Vice President and I met with l...</td>\n",
       "      <td>0.350000</td>\n",
       "      <td>-0.025000</td>\n",
       "    </tr>\n",
       "    <tr>\n",
       "      <th>3</th>\n",
       "      <td>The Delta variant is surging across the countr...</td>\n",
       "      <td>0.500000</td>\n",
       "      <td>0.300000</td>\n",
       "    </tr>\n",
       "    <tr>\n",
       "      <th>4</th>\n",
       "      <td>: Over 160M Americans are fully vaccinated, sc...</td>\n",
       "      <td>0.000000</td>\n",
       "      <td>0.000000</td>\n",
       "    </tr>\n",
       "    <tr>\n",
       "      <th>...</th>\n",
       "      <td>...</td>\n",
       "      <td>...</td>\n",
       "      <td>...</td>\n",
       "    </tr>\n",
       "    <tr>\n",
       "      <th>95</th>\n",
       "      <td>Yesterday’s Federal court ruling is deeply dis...</td>\n",
       "      <td>0.406250</td>\n",
       "      <td>-0.125000</td>\n",
       "    </tr>\n",
       "    <tr>\n",
       "      <th>96</th>\n",
       "      <td>The Build Back Better Agenda combined with the...</td>\n",
       "      <td>0.208333</td>\n",
       "      <td>0.166667</td>\n",
       "    </tr>\n",
       "    <tr>\n",
       "      <th>97</th>\n",
       "      <td>The Build Back Better Agenda starts with educa...</td>\n",
       "      <td>0.325000</td>\n",
       "      <td>0.225000</td>\n",
       "    </tr>\n",
       "    <tr>\n",
       "      <th>98</th>\n",
       "      <td>As the first woman chancellor, Angela Merkel’s...</td>\n",
       "      <td>0.425595</td>\n",
       "      <td>0.242262</td>\n",
       "    </tr>\n",
       "    <tr>\n",
       "      <th>99</th>\n",
       "      <td>Folks, it’s never been more convenient or more...</td>\n",
       "      <td>0.600000</td>\n",
       "      <td>0.375000</td>\n",
       "    </tr>\n",
       "  </tbody>\n",
       "</table>\n",
       "<p>100 rows × 3 columns</p>\n",
       "</div>"
      ],
      "text/plain": [
       "                                               Tweets  Subjectivity  Polarity\n",
       "0   Medicare and Medicaid turn 56 today.\\n \\nThank...      0.233333  0.233333\n",
       "1   Tune in as the Vice President and I meet with ...      0.000000  0.000000\n",
       "2   Yesterday, the Vice President and I met with l...      0.350000 -0.025000\n",
       "3   The Delta variant is surging across the countr...      0.500000  0.300000\n",
       "4   : Over 160M Americans are fully vaccinated, sc...      0.000000  0.000000\n",
       "..                                                ...           ...       ...\n",
       "95  Yesterday’s Federal court ruling is deeply dis...      0.406250 -0.125000\n",
       "96  The Build Back Better Agenda combined with the...      0.208333  0.166667\n",
       "97  The Build Back Better Agenda starts with educa...      0.325000  0.225000\n",
       "98  As the first woman chancellor, Angela Merkel’s...      0.425595  0.242262\n",
       "99  Folks, it’s never been more convenient or more...      0.600000  0.375000\n",
       "\n",
       "[100 rows x 3 columns]"
      ]
     },
     "execution_count": 20,
     "metadata": {},
     "output_type": "execute_result"
    }
   ],
   "source": [
    "# Create subjectivity and polarity\n",
    "def getSubjectivity(text):\n",
    "    return TextBlob(text).sentiment.subjectivity\n",
    "\n",
    "def getPolarity(text):\n",
    "    return TextBlob(text).sentiment.polarity\n",
    "\n",
    "df['Subjectivity'] = df['Tweets'].apply(getSubjectivity)\n",
    "df['Polarity'] = df['Tweets'].apply(getPolarity)\n",
    "df\n"
   ]
  },
  {
   "cell_type": "code",
   "execution_count": 22,
   "id": "6f4c287a",
   "metadata": {},
   "outputs": [
    {
     "data": {
      "text/html": [
       "<div>\n",
       "<style scoped>\n",
       "    .dataframe tbody tr th:only-of-type {\n",
       "        vertical-align: middle;\n",
       "    }\n",
       "\n",
       "    .dataframe tbody tr th {\n",
       "        vertical-align: top;\n",
       "    }\n",
       "\n",
       "    .dataframe thead th {\n",
       "        text-align: right;\n",
       "    }\n",
       "</style>\n",
       "<table border=\"1\" class=\"dataframe\">\n",
       "  <thead>\n",
       "    <tr style=\"text-align: right;\">\n",
       "      <th></th>\n",
       "      <th>Tweets</th>\n",
       "      <th>Subjectivity</th>\n",
       "      <th>Polarity</th>\n",
       "      <th>Analysis</th>\n",
       "    </tr>\n",
       "  </thead>\n",
       "  <tbody>\n",
       "    <tr>\n",
       "      <th>0</th>\n",
       "      <td>Medicare and Medicaid turn 56 today.\\n \\nThank...</td>\n",
       "      <td>0.233333</td>\n",
       "      <td>0.233333</td>\n",
       "      <td>Positive</td>\n",
       "    </tr>\n",
       "    <tr>\n",
       "      <th>1</th>\n",
       "      <td>Tune in as the Vice President and I meet with ...</td>\n",
       "      <td>0.000000</td>\n",
       "      <td>0.000000</td>\n",
       "      <td>Neutral</td>\n",
       "    </tr>\n",
       "    <tr>\n",
       "      <th>2</th>\n",
       "      <td>Yesterday, the Vice President and I met with l...</td>\n",
       "      <td>0.350000</td>\n",
       "      <td>-0.025000</td>\n",
       "      <td>Negative</td>\n",
       "    </tr>\n",
       "    <tr>\n",
       "      <th>3</th>\n",
       "      <td>The Delta variant is surging across the countr...</td>\n",
       "      <td>0.500000</td>\n",
       "      <td>0.300000</td>\n",
       "      <td>Positive</td>\n",
       "    </tr>\n",
       "    <tr>\n",
       "      <th>4</th>\n",
       "      <td>: Over 160M Americans are fully vaccinated, sc...</td>\n",
       "      <td>0.000000</td>\n",
       "      <td>0.000000</td>\n",
       "      <td>Neutral</td>\n",
       "    </tr>\n",
       "    <tr>\n",
       "      <th>...</th>\n",
       "      <td>...</td>\n",
       "      <td>...</td>\n",
       "      <td>...</td>\n",
       "      <td>...</td>\n",
       "    </tr>\n",
       "    <tr>\n",
       "      <th>95</th>\n",
       "      <td>Yesterday’s Federal court ruling is deeply dis...</td>\n",
       "      <td>0.406250</td>\n",
       "      <td>-0.125000</td>\n",
       "      <td>Negative</td>\n",
       "    </tr>\n",
       "    <tr>\n",
       "      <th>96</th>\n",
       "      <td>The Build Back Better Agenda combined with the...</td>\n",
       "      <td>0.208333</td>\n",
       "      <td>0.166667</td>\n",
       "      <td>Positive</td>\n",
       "    </tr>\n",
       "    <tr>\n",
       "      <th>97</th>\n",
       "      <td>The Build Back Better Agenda starts with educa...</td>\n",
       "      <td>0.325000</td>\n",
       "      <td>0.225000</td>\n",
       "      <td>Positive</td>\n",
       "    </tr>\n",
       "    <tr>\n",
       "      <th>98</th>\n",
       "      <td>As the first woman chancellor, Angela Merkel’s...</td>\n",
       "      <td>0.425595</td>\n",
       "      <td>0.242262</td>\n",
       "      <td>Positive</td>\n",
       "    </tr>\n",
       "    <tr>\n",
       "      <th>99</th>\n",
       "      <td>Folks, it’s never been more convenient or more...</td>\n",
       "      <td>0.600000</td>\n",
       "      <td>0.375000</td>\n",
       "      <td>Positive</td>\n",
       "    </tr>\n",
       "  </tbody>\n",
       "</table>\n",
       "<p>100 rows × 4 columns</p>\n",
       "</div>"
      ],
      "text/plain": [
       "                                               Tweets  Subjectivity  Polarity  \\\n",
       "0   Medicare and Medicaid turn 56 today.\\n \\nThank...      0.233333  0.233333   \n",
       "1   Tune in as the Vice President and I meet with ...      0.000000  0.000000   \n",
       "2   Yesterday, the Vice President and I met with l...      0.350000 -0.025000   \n",
       "3   The Delta variant is surging across the countr...      0.500000  0.300000   \n",
       "4   : Over 160M Americans are fully vaccinated, sc...      0.000000  0.000000   \n",
       "..                                                ...           ...       ...   \n",
       "95  Yesterday’s Federal court ruling is deeply dis...      0.406250 -0.125000   \n",
       "96  The Build Back Better Agenda combined with the...      0.208333  0.166667   \n",
       "97  The Build Back Better Agenda starts with educa...      0.325000  0.225000   \n",
       "98  As the first woman chancellor, Angela Merkel’s...      0.425595  0.242262   \n",
       "99  Folks, it’s never been more convenient or more...      0.600000  0.375000   \n",
       "\n",
       "    Analysis  \n",
       "0   Positive  \n",
       "1    Neutral  \n",
       "2   Negative  \n",
       "3   Positive  \n",
       "4    Neutral  \n",
       "..       ...  \n",
       "95  Negative  \n",
       "96  Positive  \n",
       "97  Positive  \n",
       "98  Positive  \n",
       "99  Positive  \n",
       "\n",
       "[100 rows x 4 columns]"
      ]
     },
     "execution_count": 22,
     "metadata": {},
     "output_type": "execute_result"
    }
   ],
   "source": [
    "# Create a function to compute positive , negative or neutral\n",
    "def getAnalysis(score):\n",
    "    if(score > 0):\n",
    "        return 'Positive'\n",
    "    elif(score == 0):\n",
    "        return 'Neutral'\n",
    "    else:\n",
    "        return 'Negative'\n",
    "df['Analysis'] = df['Polarity'].apply(getAnalysis)\n",
    "df"
   ]
  },
  {
   "cell_type": "code",
   "execution_count": 37,
   "id": "c70936bc",
   "metadata": {},
   "outputs": [
    {
     "data": {
      "image/png": "[encoded data removed]",
      "text/plain": [
       "<Figure size 576x432 with 1 Axes>"
      ]
     },
     "metadata": {
      "needs_background": "light"
     },
     "output_type": "display_data"
    }
   ],
   "source": [
    "# Plot the polarity and subjectivity\n",
    "plt.figure(figsize=(8,6))\n",
    "for i in range(0,df.shape[0]):\n",
    "    plt.scatter(df['Polarity'][i],df['Subjectivity'][i],color='Blue')\n",
    "    \n",
    "plt.title('Sentiment Analysis')\n",
    "plt.xlabel('Polarity')\n",
    "plt.ylabel('Subjectivity')\n",
    "plt.show()\n"
   ]
  },
  {
   "cell_type": "code",
   "execution_count": 48,
   "id": "f5e60b02",
   "metadata": {},
   "outputs": [
    {
     "data": {
      "text/plain": [
       "73.0"
      ]
     },
     "execution_count": 48,
     "metadata": {},
     "output_type": "execute_result"
    }
   ],
   "source": [
    "# Get percentage of Positive Tweets\n",
    "ptweets = df[df['Analysis'] == 'Positive']\n",
    "ptweets = ptweets['Tweets']\n",
    "p_per = round((ptweets.shape[0]/df.shape[0]) *100 , 1)\n",
    "p_per\n"
   ]
  },
  {
   "cell_type": "code",
   "execution_count": 47,
   "id": "8462f46e",
   "metadata": {},
   "outputs": [
    {
     "data": {
      "text/plain": [
       "7.0"
      ]
     },
     "execution_count": 47,
     "metadata": {},
     "output_type": "execute_result"
    }
   ],
   "source": [
    "# Get percentage of Negative Tweets\n",
    "ntweets = df[df['Analysis'] == 'Negative']\n",
    "ntweets = ntweets['Tweets']\n",
    "n_per =round((ntweets.shape[0]/df.shape[0]) *100 , 1)\n",
    "n_per"
   ]
  },
  {
   "cell_type": "code",
   "execution_count": 52,
   "id": "c9f223ec",
   "metadata": {},
   "outputs": [
    {
     "data": {
      "image/png": "[encoded data removed]",
      "text/plain": [
       "<Figure size 432x288 with 1 Axes>"
      ]
     },
     "metadata": {
      "needs_background": "light"
     },
     "output_type": "display_data"
    }
   ],
   "source": [
    "# Visualistaion\n",
    "plt.title('Sentiment Analysis')\n",
    "plt.xlabel('Sentiment')\n",
    "plt.ylabel('Counts')\n",
    "df['Analysis'].value_counts().plot(kind='bar')\n",
    "plt.show()\n"
   ]
  }
 ],
 "metadata": {
  "kernelspec": {
   "display_name": "Python 3",
   "language": "python",
   "name": "python3"
  },
  "language_info": {
   "codemirror_mode": {
    "name": "ipython",
    "version": 3
   },
   "file_extension": ".py",
   "mimetype": "text/x-python",
   "name": "python",
   "nbconvert_exporter": "python",
   "pygments_lexer": "ipython3",
   "version": "3.8.8"
  }
 },
 "nbformat": 4,
 "nbformat_minor": 5
}
